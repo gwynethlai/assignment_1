{
 "cells": [
  {
   "cell_type": "markdown",
   "metadata": {
    "_cell_guid": "b1076dfc-b9ad-4769-8c92-a6c4dae69d19",
    "_uuid": "8f2839f25d086af736a60e9eeb907d3b93b6e0e5",
    "execution": {
     "iopub.execute_input": "2021-09-17T14:06:57.069687Z",
     "iopub.status.busy": "2021-09-17T14:06:57.069438Z",
     "iopub.status.idle": "2021-09-17T14:06:57.075178Z",
     "shell.execute_reply": "2021-09-17T14:06:57.074239Z",
     "shell.execute_reply.started": "2021-09-17T14:06:57.069662Z"
    }
   },
   "source": [
    "# Gwyneth Lai \n",
    "## 1155171100\n",
    "### Assignment 1"
   ]
  },
  {
   "cell_type": "code",
   "execution_count": 6,
   "metadata": {},
   "outputs": [],
   "source": [
    "import pandas as pd "
   ]
  },
  {
   "cell_type": "code",
   "execution_count": 7,
   "metadata": {},
   "outputs": [],
   "source": [
    "def saving_data(file):\n",
    "    df = pd.DataFrame(file)\n",
    "    df.to_csv('progress.csv', index=False)\n",
    "    print(df)"
   ]
  },
  {
   "cell_type": "code",
   "execution_count": 8,
   "metadata": {
    "execution": {
     "iopub.execute_input": "2021-09-17T14:06:58.589974Z",
     "iopub.status.busy": "2021-09-17T14:06:58.589381Z",
     "iopub.status.idle": "2021-09-17T14:06:58.597310Z",
     "shell.execute_reply": "2021-09-17T14:06:58.596486Z",
     "shell.execute_reply.started": "2021-09-17T14:06:58.589938Z"
    }
   },
   "outputs": [],
   "source": [
    "progress = [] #let's create empty list for saving dictionaries\n",
    "def input_function():\n",
    "    while(True): #infinitely do looping until option 3 is chosen\n",
    "        print('Please choose one of the following from user menu:\\n1.Enter progress data\\n2.Show data\\n3.Exit')\n",
    "        answer = input(\"You answer:\") #accept input from the user and save it in answer variable\n",
    "        if answer=='1':\n",
    "            week_of_month = input(\"The week of the month:\")\n",
    "            hrs_spent = input(\"Total hours spent:\")\n",
    "            task_name = input(\"Task name\")\n",
    "            progress.append({'The week Of The Month':week_of_month,'Total hours spent':hrs_spent,'Task name':task_name})\n",
    "        elif answer=='2':\n",
    "            saving_data(progress)\n",
    "        else:\n",
    "            print(\"Bye-bye~\")\n",
    "            break #break the loop\n",
    "    \n"
   ]
  },
  {
   "cell_type": "code",
   "execution_count": 9,
   "metadata": {
    "execution": {
     "iopub.execute_input": "2021-09-17T14:11:07.878062Z",
     "iopub.status.busy": "2021-09-17T14:11:07.877761Z",
     "iopub.status.idle": "2021-09-17T14:12:45.432057Z",
     "shell.execute_reply": "2021-09-17T14:12:45.431127Z",
     "shell.execute_reply.started": "2021-09-17T14:11:07.878035Z"
    }
   },
   "outputs": [
    {
     "name": "stdout",
     "output_type": "stream",
     "text": [
      "Please choose one of the following from user menu:\n",
      "1.Enter progress data\n",
      "2.Show data\n",
      "3.Exit\n",
      "You answer:1\n",
      "The week of the month:Week 1\n",
      "Total hours spent:10\n",
      "Task nameTask 1\n",
      "Please choose one of the following from user menu:\n",
      "1.Enter progress data\n",
      "2.Show data\n",
      "3.Exit\n",
      "You answer:2\n",
      "  The week Of The Month Total hours spent Task name\n",
      "0                Week 1                10    Task 1\n",
      "Please choose one of the following from user menu:\n",
      "1.Enter progress data\n",
      "2.Show data\n",
      "3.Exit\n",
      "You answer:1\n",
      "The week of the month:Week 2\n",
      "Total hours spent:6\n",
      "Task nameTask 1\n",
      "Please choose one of the following from user menu:\n",
      "1.Enter progress data\n",
      "2.Show data\n",
      "3.Exit\n",
      "You answer:1\n",
      "The week of the month:Week 3\n",
      "Total hours spent:7\n",
      "Task nameTask 1\n",
      "Please choose one of the following from user menu:\n",
      "1.Enter progress data\n",
      "2.Show data\n",
      "3.Exit\n",
      "You answer:1\n",
      "The week of the month:Week 4\n",
      "Total hours spent:8\n",
      "Task nameTask 1\n",
      "Please choose one of the following from user menu:\n",
      "1.Enter progress data\n",
      "2.Show data\n",
      "3.Exit\n",
      "You answer:2\n",
      "  The week Of The Month Total hours spent Task name\n",
      "0                Week 1                10    Task 1\n",
      "1                Week 2                 6    Task 1\n",
      "2                Week 3                 7    Task 1\n",
      "3                Week 4                 8    Task 1\n",
      "Please choose one of the following from user menu:\n",
      "1.Enter progress data\n",
      "2.Show data\n",
      "3.Exit\n",
      "You answer:1\n",
      "The week of the month:Week 1\n",
      "Total hours spent:3\n",
      "Task nameTask 2\n",
      "Please choose one of the following from user menu:\n",
      "1.Enter progress data\n",
      "2.Show data\n",
      "3.Exit\n",
      "You answer:1\n",
      "The week of the month:Week 2\n",
      "Total hours spent:5\n",
      "Task nameTask 2\n",
      "Please choose one of the following from user menu:\n",
      "1.Enter progress data\n",
      "2.Show data\n",
      "3.Exit\n",
      "You answer:1\n",
      "The week of the month:Week 3\n",
      "Total hours spent:8\n",
      "Task nameTask 2\n",
      "Please choose one of the following from user menu:\n",
      "1.Enter progress data\n",
      "2.Show data\n",
      "3.Exit\n",
      "You answer:1\n",
      "The week of the month:Week 4\n",
      "Total hours spent:4\n",
      "Task nameTask 2\n",
      "Please choose one of the following from user menu:\n",
      "1.Enter progress data\n",
      "2.Show data\n",
      "3.Exit\n",
      "You answer:1\n",
      "The week of the month:Week 1\n",
      "Total hours spent:8\n",
      "Task nameTask 3\n",
      "Please choose one of the following from user menu:\n",
      "1.Enter progress data\n",
      "2.Show data\n",
      "3.Exit\n",
      "You answer:1\n",
      "The week of the month:Week 2\n",
      "Total hours spent:5\n",
      "Task nameTask 3\n",
      "Please choose one of the following from user menu:\n",
      "1.Enter progress data\n",
      "2.Show data\n",
      "3.Exit\n",
      "You answer:1\n",
      "The week of the month:Week 3\n",
      "Total hours spent:12\n",
      "Task nameTask 3\n",
      "Please choose one of the following from user menu:\n",
      "1.Enter progress data\n",
      "2.Show data\n",
      "3.Exit\n",
      "You answer:1\n",
      "The week of the month:Week 4\n",
      "Total hours spent:9\n",
      "Task nameTask 3\n",
      "Please choose one of the following from user menu:\n",
      "1.Enter progress data\n",
      "2.Show data\n",
      "3.Exit\n",
      "You answer:2\n",
      "   The week Of The Month Total hours spent Task name\n",
      "0                 Week 1                10    Task 1\n",
      "1                 Week 2                 6    Task 1\n",
      "2                 Week 3                 7    Task 1\n",
      "3                 Week 4                 8    Task 1\n",
      "4                 Week 1                 3    Task 2\n",
      "5                 Week 2                 5    Task 2\n",
      "6                 Week 3                 8    Task 2\n",
      "7                 Week 4                 4    Task 2\n",
      "8                 Week 1                 8    Task 3\n",
      "9                 Week 2                 5    Task 3\n",
      "10                Week 3                12    Task 3\n",
      "11                Week 4                 9    Task 3\n",
      "Please choose one of the following from user menu:\n",
      "1.Enter progress data\n",
      "2.Show data\n",
      "3.Exit\n",
      "You answer:3\n",
      "Bye-bye~\n"
     ]
    }
   ],
   "source": [
    "input_function()"
   ]
  },
  {
   "cell_type": "code",
   "execution_count": 10,
   "metadata": {
    "execution": {
     "iopub.execute_input": "2021-09-17T14:12:48.589738Z",
     "iopub.status.busy": "2021-09-17T14:12:48.589487Z",
     "iopub.status.idle": "2021-09-17T14:12:48.602144Z",
     "shell.execute_reply": "2021-09-17T14:12:48.601570Z",
     "shell.execute_reply.started": "2021-09-17T14:12:48.589712Z"
    }
   },
   "outputs": [
    {
     "name": "stdout",
     "output_type": "stream",
     "text": [
      "Task list: \n",
      " [['Week 1', 10, 'Task 1'], ['Week 2', 6, 'Task 1'], ['Week 3', 7, 'Task 1'], ['Week 4', 8, 'Task 1'], ['Week 1', 3, 'Task 2'], ['Week 2', 5, 'Task 2'], ['Week 3', 8, 'Task 2'], ['Week 4', 4, 'Task 2'], ['Week 1', 8, 'Task 3'], ['Week 2', 5, 'Task 3'], ['Week 3', 12, 'Task 3'], ['Week 4', 9, 'Task 3']]\n",
      "Total hours:  [10, 6, 7, 8, 3, 5, 8, 4, 8, 5, 12, 9]\n",
      "Task:  ['Task 1', 'Task 1', 'Task 1', 'Task 1', 'Task 2', 'Task 2', 'Task 2', 'Task 2', 'Task 3', 'Task 3', 'Task 3', 'Task 3']\n",
      "['Week 1', 'Week 4', 'Week 3', 'Week 2']\n"
     ]
    }
   ],
   "source": [
    "from matplotlib import pyplot as plt\n",
    "data = pd.read_csv('progress.csv')\n",
    "task_list = data.values.tolist()\n",
    "print(\"Task list:\",\"\\n\",task_list)\n",
    "data_week_of_month = []\n",
    "data_hrs = []\n",
    "data_task = []\n",
    "for i in task_list:\n",
    "    data_week_of_month.append(i[0])\n",
    "    data_hrs.append(i[1])\n",
    "    data_task.append(i[2])\n",
    "print(\"Total hours: \", data_hrs)\n",
    "print(\"Task: \", data_task)\n",
    "weeks = list(set(data_week_of_month))\n",
    "print(weeks)\n"
   ]
  },
  {
   "cell_type": "code",
   "execution_count": 11,
   "metadata": {
    "execution": {
     "iopub.execute_input": "2021-09-17T14:12:50.878614Z",
     "iopub.status.busy": "2021-09-17T14:12:50.878196Z",
     "iopub.status.idle": "2021-09-17T14:12:50.892102Z",
     "shell.execute_reply": "2021-09-17T14:12:50.891199Z",
     "shell.execute_reply.started": "2021-09-17T14:12:50.878585Z"
    }
   },
   "outputs": [
    {
     "data": {
      "text/html": [
       "<div>\n",
       "<style scoped>\n",
       "    .dataframe tbody tr th:only-of-type {\n",
       "        vertical-align: middle;\n",
       "    }\n",
       "\n",
       "    .dataframe tbody tr th {\n",
       "        vertical-align: top;\n",
       "    }\n",
       "\n",
       "    .dataframe thead th {\n",
       "        text-align: right;\n",
       "    }\n",
       "</style>\n",
       "<table border=\"1\" class=\"dataframe\">\n",
       "  <thead>\n",
       "    <tr style=\"text-align: right;\">\n",
       "      <th></th>\n",
       "      <th>The week Of The Month</th>\n",
       "      <th>Total hours spent</th>\n",
       "      <th>Task name</th>\n",
       "    </tr>\n",
       "  </thead>\n",
       "  <tbody>\n",
       "    <tr>\n",
       "      <th>0</th>\n",
       "      <td>Week 1</td>\n",
       "      <td>10</td>\n",
       "      <td>Task 1</td>\n",
       "    </tr>\n",
       "    <tr>\n",
       "      <th>1</th>\n",
       "      <td>Week 2</td>\n",
       "      <td>6</td>\n",
       "      <td>Task 1</td>\n",
       "    </tr>\n",
       "    <tr>\n",
       "      <th>2</th>\n",
       "      <td>Week 3</td>\n",
       "      <td>7</td>\n",
       "      <td>Task 1</td>\n",
       "    </tr>\n",
       "    <tr>\n",
       "      <th>3</th>\n",
       "      <td>Week 4</td>\n",
       "      <td>8</td>\n",
       "      <td>Task 1</td>\n",
       "    </tr>\n",
       "    <tr>\n",
       "      <th>4</th>\n",
       "      <td>Week 1</td>\n",
       "      <td>3</td>\n",
       "      <td>Task 2</td>\n",
       "    </tr>\n",
       "    <tr>\n",
       "      <th>5</th>\n",
       "      <td>Week 2</td>\n",
       "      <td>5</td>\n",
       "      <td>Task 2</td>\n",
       "    </tr>\n",
       "    <tr>\n",
       "      <th>6</th>\n",
       "      <td>Week 3</td>\n",
       "      <td>8</td>\n",
       "      <td>Task 2</td>\n",
       "    </tr>\n",
       "    <tr>\n",
       "      <th>7</th>\n",
       "      <td>Week 4</td>\n",
       "      <td>4</td>\n",
       "      <td>Task 2</td>\n",
       "    </tr>\n",
       "    <tr>\n",
       "      <th>8</th>\n",
       "      <td>Week 1</td>\n",
       "      <td>8</td>\n",
       "      <td>Task 3</td>\n",
       "    </tr>\n",
       "    <tr>\n",
       "      <th>9</th>\n",
       "      <td>Week 2</td>\n",
       "      <td>5</td>\n",
       "      <td>Task 3</td>\n",
       "    </tr>\n",
       "    <tr>\n",
       "      <th>10</th>\n",
       "      <td>Week 3</td>\n",
       "      <td>12</td>\n",
       "      <td>Task 3</td>\n",
       "    </tr>\n",
       "    <tr>\n",
       "      <th>11</th>\n",
       "      <td>Week 4</td>\n",
       "      <td>9</td>\n",
       "      <td>Task 3</td>\n",
       "    </tr>\n",
       "  </tbody>\n",
       "</table>\n",
       "</div>"
      ],
      "text/plain": [
       "   The week Of The Month  Total hours spent Task name\n",
       "0                 Week 1                 10    Task 1\n",
       "1                 Week 2                  6    Task 1\n",
       "2                 Week 3                  7    Task 1\n",
       "3                 Week 4                  8    Task 1\n",
       "4                 Week 1                  3    Task 2\n",
       "5                 Week 2                  5    Task 2\n",
       "6                 Week 3                  8    Task 2\n",
       "7                 Week 4                  4    Task 2\n",
       "8                 Week 1                  8    Task 3\n",
       "9                 Week 2                  5    Task 3\n",
       "10                Week 3                 12    Task 3\n",
       "11                Week 4                  9    Task 3"
      ]
     },
     "execution_count": 11,
     "metadata": {},
     "output_type": "execute_result"
    }
   ],
   "source": [
    "data"
   ]
  },
  {
   "cell_type": "code",
   "execution_count": 12,
   "metadata": {
    "execution": {
     "iopub.execute_input": "2021-09-17T14:12:54.597777Z",
     "iopub.status.busy": "2021-09-17T14:12:54.597496Z",
     "iopub.status.idle": "2021-09-17T14:12:54.606168Z",
     "shell.execute_reply": "2021-09-17T14:12:54.605334Z",
     "shell.execute_reply.started": "2021-09-17T14:12:54.597747Z"
    }
   },
   "outputs": [],
   "source": [
    "b = data.groupby(['Task name'])"
   ]
  },
  {
   "cell_type": "code",
   "execution_count": 16,
   "metadata": {
    "execution": {
     "iopub.execute_input": "2021-09-17T14:12:56.237433Z",
     "iopub.status.busy": "2021-09-17T14:12:56.237148Z",
     "iopub.status.idle": "2021-09-17T14:12:56.469609Z",
     "shell.execute_reply": "2021-09-17T14:12:56.468748Z",
     "shell.execute_reply.started": "2021-09-17T14:12:56.237404Z"
    }
   },
   "outputs": [
    {
     "data": {
      "image/png": "[encoded data removed]",
      "text/plain": [
       "<Figure size 432x288 with 1 Axes>"
      ]
     },
     "metadata": {
      "needs_background": "light"
     },
     "output_type": "display_data"
    }
   ],
   "source": [
    "plt.plot(b.get_group('Task 1')['The week Of The Month'],b.get_group('Task 1')['Total hours spent'],color='purple',label='task1', linestyle='--')\n",
    "plt.plot(b.get_group('Task 2')['The week Of The Month'],b.get_group('Task 2')['Total hours spent'],color='#82edc9',label='task2',marker='s')\n",
    "plt.plot(b.get_group('Task 3')['The week Of The Month'],b.get_group('Task 3')['Total hours spent'],label='task3',marker='*')\n",
    "plt.plot(data.groupby(['The week Of The Month']).mean(),marker='o')\n",
    "plt.legend(['task1','task2','task3','average'])\n",
    "plt.xlabel('The Week Of Month')\n",
    "plt.ylabel('Hours Spent')\n",
    "plt.title('Weekly hours spent on each task')\n",
    "plt.show()"
   ]
  },
  {
   "cell_type": "code",
   "execution_count": null,
   "metadata": {},
   "outputs": [],
   "source": []
  },
  {
   "cell_type": "code",
   "execution_count": null,
   "metadata": {},
   "outputs": [],
   "source": []
  }
 ],
 "metadata": {
  "kernelspec": {
   "display_name": "Python 3",
   "language": "python",
   "name": "python3"
  },
  "language_info": {
   "codemirror_mode": {
    "name": "ipython",
    "version": 3
   },
   "file_extension": ".py",
   "mimetype": "text/x-python",
   "name": "python",
   "nbconvert_exporter": "python",
   "pygments_lexer": "ipython3",
   "version": "3.8.8"
  }
 },
 "nbformat": 4,
 "nbformat_minor": 4
}
